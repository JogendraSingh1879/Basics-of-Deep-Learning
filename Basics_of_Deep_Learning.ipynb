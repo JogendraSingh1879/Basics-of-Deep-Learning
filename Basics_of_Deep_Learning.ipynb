{
  "nbformat": 4,
  "nbformat_minor": 0,
  "metadata": {
    "colab": {
      "provenance": []
    },
    "kernelspec": {
      "name": "python3",
      "display_name": "Python 3"
    },
    "language_info": {
      "name": "python"
    }
  },
  "cells": [
    {
      "cell_type": "code",
      "execution_count": 2,
      "metadata": {
        "id": "DyGGR2gGL6st"
      },
      "outputs": [],
      "source": [
        "# Importing important libraries\n",
        "import pandas as pd\n",
        "import numpy as np\n",
        "import matplotlib.pyplot as plt\n",
        "import seaborn as sns"
      ]
    },
    {
      "cell_type": "code",
      "source": [
        "# Setting the random seed\n",
        "np.random.seed(42)"
      ],
      "metadata": {
        "id": "frW9HCP1MDJD"
      },
      "execution_count": 3,
      "outputs": []
    },
    {
      "cell_type": "code",
      "source": [
        "# Creating the input array\n",
        "X = np.array([[1, 0, 0, 0], [1, 0, 1, 1], [0, 1, 0, 1]])\n",
        "\n",
        "print('Input :\\n', X)\n",
        "\n",
        "# Shape of input\n",
        "print('\\nShape of Input :', X.shape)"
      ],
      "metadata": {
        "colab": {
          "base_uri": "https://localhost:8080/"
        },
        "id": "8iyKYIdGMU7p",
        "outputId": "9179bfb1-0e32-4854-fc07-748c86a0ad93"
      },
      "execution_count": 4,
      "outputs": [
        {
          "output_type": "stream",
          "name": "stdout",
          "text": [
            "Input :\n",
            " [[1 0 0 0]\n",
            " [1 0 1 1]\n",
            " [0 1 0 1]]\n",
            "\n",
            "Shape of Input : (3, 4)\n"
          ]
        }
      ]
    },
    {
      "cell_type": "code",
      "source": [
        "# Transpose\n",
        "X = X.T\n",
        "print('Input in matrix form :\\n', X)\n",
        "\n",
        "# Shape of matrix\n",
        "print('\\nShape of Input Matrix :\\n', X.shape)"
      ],
      "metadata": {
        "colab": {
          "base_uri": "https://localhost:8080/"
        },
        "id": "HxPN7Mv1MZCJ",
        "outputId": "d1c5e590-5e63-4fa4-c100-4b6dfa2a1cc8"
      },
      "execution_count": 5,
      "outputs": [
        {
          "output_type": "stream",
          "name": "stdout",
          "text": [
            "Input in matrix form :\n",
            " [[1 1 0]\n",
            " [0 0 1]\n",
            " [0 1 0]\n",
            " [0 1 1]]\n",
            "\n",
            "Shape of Input Matrix :\n",
            " (4, 3)\n"
          ]
        }
      ]
    },
    {
      "cell_type": "code",
      "source": [
        "# Creating the output array\n",
        "y = np.array([[1], [1], [0]])\n",
        "\n",
        "print('Actual Output :\\n', y)\n",
        "\n",
        "# Transpose of output\n",
        "y = y.T\n",
        "print('Matrix Output :\\n', y)\n",
        "print('\\nShape of Output :', y.shape)"
      ],
      "metadata": {
        "colab": {
          "base_uri": "https://localhost:8080/"
        },
        "id": "W_GJcrDFMgiV",
        "outputId": "83f47286-c31d-487e-f4d9-6beda3fbd3c2"
      },
      "execution_count": 6,
      "outputs": [
        {
          "output_type": "stream",
          "name": "stdout",
          "text": [
            "Actual Output :\n",
            " [[1]\n",
            " [1]\n",
            " [0]]\n",
            "Matrix Output :\n",
            " [[1 1 0]]\n",
            "\n",
            "Shape of Output : (1, 3)\n"
          ]
        }
      ]
    },
    {
      "cell_type": "code",
      "source": [
        "# Defining the Neural Network Architecture\n",
        "inputLayer_neurons = X.shape[0]\n",
        "hiddenLayer_neurons = 3\n",
        "outputLayer_neurons = 1"
      ],
      "metadata": {
        "id": "tGgmY-6qMmOY"
      },
      "execution_count": 7,
      "outputs": []
    },
    {
      "cell_type": "code",
      "source": [
        "# Randomly initializing the weights\n",
        "weights_input_hidden = np.random.uniform(size =\n",
        " (inputLayer_neurons, hiddenLayer_neurons))\n",
        "weights_hidden_output = np.random.uniform(size =\n",
        " (hiddenLayer_neurons, outputLayer_neurons))"
      ],
      "metadata": {
        "id": "XgtdRDggMrFm"
      },
      "execution_count": 8,
      "outputs": []
    },
    {
      "cell_type": "code",
      "source": [
        "# Checking the shape\n",
        "print('Shape of weights_input_hidden :', weights_input_hidden.shape)\n",
        "print('Shape of weights_hidden_output :', weights_hidden_output.shape)"
      ],
      "metadata": {
        "colab": {
          "base_uri": "https://localhost:8080/"
        },
        "id": "7SjYTzA7Mu2h",
        "outputId": "75a36438-bf61-4c51-930a-48301f82579f"
      },
      "execution_count": 9,
      "outputs": [
        {
          "output_type": "stream",
          "name": "stdout",
          "text": [
            "Shape of weights_input_hidden : (4, 3)\n",
            "Shape of weights_hidden_output : (3, 1)\n"
          ]
        }
      ]
    },
    {
      "cell_type": "code",
      "source": [
        "# Defining the sigmoid\n",
        "def sigmoid(x):\n",
        "    return 1 / (1 + np.exp(-x))"
      ],
      "metadata": {
        "id": "S2mtJE7mMwVB"
      },
      "execution_count": 10,
      "outputs": []
    },
    {
      "cell_type": "code",
      "source": [
        "# Hidden Layer Activation\n",
        "hidden_layer_input = np.dot(weights_input_hidden.T, X)\n",
        "hidden_layer_activation = sigmoid(hidden_layer_input)"
      ],
      "metadata": {
        "id": "dhQmlA7CM42L"
      },
      "execution_count": 11,
      "outputs": []
    },
    {
      "cell_type": "code",
      "source": [
        "# Calculating the output\n",
        "output_layer_input = np.dot(weights_hidden_output.T, hidden_layer_activation)\n",
        "output = sigmoid(output_layer_input)"
      ],
      "metadata": {
        "id": "ZT3FsVvPM98L"
      },
      "execution_count": 12,
      "outputs": []
    },
    {
      "cell_type": "code",
      "source": [
        "# Getting the output\n",
        "print(output)\n"
      ],
      "metadata": {
        "colab": {
          "base_uri": "https://localhost:8080/"
        },
        "id": "rYEPNYkhNBq8",
        "outputId": "d2da1676-fe31-4531-b47d-af497c857853"
      },
      "execution_count": 13,
      "outputs": [
        {
          "output_type": "stream",
          "name": "stdout",
          "text": [
            "[[0.68334694 0.72697078 0.71257368]]\n"
          ]
        }
      ]
    },
    {
      "cell_type": "code",
      "source": [
        "# Calculating the error\n",
        "error = y - output\n",
        "print(error)"
      ],
      "metadata": {
        "colab": {
          "base_uri": "https://localhost:8080/"
        },
        "id": "nFq_1_E6NFWI",
        "outputId": "72820a0e-e5d1-4fbf-b5af-ada7e88d503f"
      },
      "execution_count": 14,
      "outputs": [
        {
          "output_type": "stream",
          "name": "stdout",
          "text": [
            "[[ 0.31665306  0.27302922 -0.71257368]]\n"
          ]
        }
      ]
    },
    {
      "cell_type": "code",
      "source": [
        "# Rate of change of error w.r.t. output\n",
        "error_wrt_output = -(y - output)\n",
        "print(error_wrt_output)"
      ],
      "metadata": {
        "colab": {
          "base_uri": "https://localhost:8080/"
        },
        "id": "HEMI1ahtNIq4",
        "outputId": "8aa6f02f-b4f5-4cc9-da59-43b9da39e9a2"
      },
      "execution_count": 15,
      "outputs": [
        {
          "output_type": "stream",
          "name": "stdout",
          "text": [
            "[[-0.31665306 -0.27302922  0.71257368]]\n"
          ]
        }
      ]
    },
    {
      "cell_type": "code",
      "source": [
        "# Rate of change of error w.r.t. Z2\n",
        "output_wrt_outputLayer_LinearTransform = np.multiply(output, (1 - output))\n",
        "print(output_wrt_outputLayer_LinearTransform)"
      ],
      "metadata": {
        "colab": {
          "base_uri": "https://localhost:8080/"
        },
        "id": "A1utnPq4NM21",
        "outputId": "0a833ca9-9eb0-4ce9-c368-7ed78a0d4717"
      },
      "execution_count": 16,
      "outputs": [
        {
          "output_type": "stream",
          "name": "stdout",
          "text": [
            "[[0.2163839  0.19848426 0.20481243]]\n"
          ]
        }
      ]
    },
    {
      "cell_type": "code",
      "source": [
        "# Rate of change of Z2 w.r.t. weights between hidden and output layer\n",
        "outputLayer_LinearTransform_wrt_weights = hidden_layer_activation"
      ],
      "metadata": {
        "id": "d7jC2YOkNRle"
      },
      "execution_count": 17,
      "outputs": []
    },
    {
      "cell_type": "code",
      "source": [
        "# Checking the shape of partial derivatives\n",
        "error_wrt_output.shape,\n",
        "output_wrt_outputLayer_LinearTransform.shape,\n",
        "outputLayer_LinearTransform_wrt_weights.shape"
      ],
      "metadata": {
        "colab": {
          "base_uri": "https://localhost:8080/"
        },
        "id": "FCxbAEN0NWcH",
        "outputId": "7b8357df-fd2c-4837-ee7c-1e0a4d2a10f5"
      },
      "execution_count": 18,
      "outputs": [
        {
          "output_type": "execute_result",
          "data": {
            "text/plain": [
              "(3, 3)"
            ]
          },
          "metadata": {},
          "execution_count": 18
        }
      ]
    },
    {
      "cell_type": "code",
      "source": [
        "# Shape of weights of output layer\n",
        "weights_hidden_output.shape"
      ],
      "metadata": {
        "colab": {
          "base_uri": "https://localhost:8080/"
        },
        "id": "cA9eHdiYNaZ1",
        "outputId": "1a029bf0-9b42-4c9b-e578-8369dfbf776a"
      },
      "execution_count": 19,
      "outputs": [
        {
          "output_type": "execute_result",
          "data": {
            "text/plain": [
              "(3, 1)"
            ]
          },
          "metadata": {},
          "execution_count": 19
        }
      ]
    },
    {
      "cell_type": "code",
      "source": [
        "# Rate of change of error w.r.t. weights between hidden and output layer\n",
        "error_wrt_weights_hidden_output = np.dot(\n",
        "    outputLayer_LinearTransform_wrt_weights,\n",
        "    (error_wrt_output * output_wrt_outputLayer_LinearTransform).T,\n",
        ")\n",
        "error_wrt_weights_hidden_output.shape"
      ],
      "metadata": {
        "colab": {
          "base_uri": "https://localhost:8080/"
        },
        "id": "2s-ty1tXNivt",
        "outputId": "91b73573-1fba-4cbb-b6b5-ea1517363f91"
      },
      "execution_count": 20,
      "outputs": [
        {
          "output_type": "execute_result",
          "data": {
            "text/plain": [
              "(3, 1)"
            ]
          },
          "metadata": {},
          "execution_count": 20
        }
      ]
    },
    {
      "cell_type": "code",
      "source": [
        "# Rate of change of Z2 w.r.t. hidden layer activations\n",
        "hiddenLayer_LinearTransform_wrt_hiddenLayer_activations = weights_hidden_output"
      ],
      "metadata": {
        "id": "UIKHwZzuRut4"
      },
      "execution_count": 21,
      "outputs": []
    },
    {
      "cell_type": "code",
      "source": [
        "# Rate of change of Z1 w.r.t. weights between input and hidden layer\n",
        "hiddenLayer_linearTransform_wrt_weights_input_hidden = X"
      ],
      "metadata": {
        "id": "NspG-IbJRw81"
      },
      "execution_count": 22,
      "outputs": []
    },
    {
      "cell_type": "code",
      "source": [
        "# Checking the shapes of partial derivatives\n",
        "print(\n",
        "    error_wrt_output.shape,\n",
        "    output_wrt_outputLayer_LinearTransform.shape,\n",
        "    hiddenLayer_LinearTransform_wrt_hiddenLayer_activations.shape,\n",
        "    hiddenLayer_linearTransform_wrt_weights_input_hidden.shape,\n",
        ")\n"
      ],
      "metadata": {
        "colab": {
          "base_uri": "https://localhost:8080/"
        },
        "id": "4S1NiXw_R1NP",
        "outputId": "4900472e-4197-4f43-9609-35dc1bbb5e05"
      },
      "execution_count": 23,
      "outputs": [
        {
          "output_type": "stream",
          "name": "stdout",
          "text": [
            "(1, 3) (1, 3) (3, 1) (4, 3)\n"
          ]
        }
      ]
    },
    {
      "cell_type": "code",
      "source": [
        "# Rate of change of hidden layer activations w.r.t Z1\n",
        "hiddenLayer_activations_wrt_hiddenLayer_LinearTransform = np.multiply(\n",
        "    hidden_layer_activation, (1 - hidden_layer_activation)\n",
        ")"
      ],
      "metadata": {
        "id": "jJxYvm6HSFbj"
      },
      "execution_count": 24,
      "outputs": []
    },
    {
      "cell_type": "code",
      "source": [
        "# Rate of change of Z2 w.r.t hidden layer activations\n",
        "outputLayer_LinearTransform_wrt_hiddenlayer_activations = weights_hidden_output"
      ],
      "metadata": {
        "id": "w4T2r7mrSK3f"
      },
      "execution_count": 25,
      "outputs": []
    },
    {
      "cell_type": "code",
      "source": [
        "# Rate of change of error w.r.t. weights between input and hidden layer\n",
        "errors_wrt_weights_input_hidden = np.dot(\n",
        "    hiddenLayer_linearTransform_wrt_weights_input_hidden,\n",
        "    (\n",
        "        hiddenLayer_activations_wrt_hiddenLayer_LinearTransform *\n",
        "        np.dot(\n",
        "            outputLayer_LinearTransform_wrt_hiddenlayer_activations,\n",
        "            (output_wrt_outputLayer_LinearTransform * error_wrt_output),\n",
        "        )\n",
        "    ).T,\n",
        ")"
      ],
      "metadata": {
        "id": "egSpRSzeSWXL"
      },
      "execution_count": 26,
      "outputs": []
    },
    {
      "cell_type": "code",
      "source": [
        "\n",
        "# Defining the learning rate\n",
        "lr = 0.01"
      ],
      "metadata": {
        "id": "3qZ5JCh9SbD8"
      },
      "execution_count": 27,
      "outputs": []
    },
    {
      "cell_type": "code",
      "source": [
        "# Updating the weights\n",
        "weights_input_hidden -= lr * errors_wrt_weights_input_hidden\n",
        "weights_hidden_output -= lr * error_wrt_weights_hidden_output"
      ],
      "metadata": {
        "id": "aTWuK1hFShTH"
      },
      "execution_count": 28,
      "outputs": []
    },
    {
      "cell_type": "code",
      "source": [
        "# Defining the Neural Network Architecture\n",
        "inputLayer_neurons = X.shape[0]\n",
        "hiddenLayer_neurons = 3\n",
        "outputLayer_neurons = 1\n",
        "\n",
        "# Randomly initializing the weights\n",
        "weights_input_hidden = np.random.uniform(size =\n",
        " (inputLayer_neurons, hiddenLayer_neurons))\n",
        "weights_hidden_output = np.random.uniform(size =\n",
        " (hiddenLayer_neurons, outputLayer_neurons))\n",
        "\n",
        "# Defining the parameters\n",
        "lr = 0.01\n",
        "epochs = 10000"
      ],
      "metadata": {
        "id": "LgXD0CwbSr4T"
      },
      "execution_count": 29,
      "outputs": []
    },
    {
      "cell_type": "code",
      "source": [
        "# Complete Processing\n",
        "\n",
        "losses = []\n",
        "for epoch in range(epochs):\n",
        "  ## Forward Propogation\n",
        "\n",
        "  # Hidden Layer Activation\n",
        "  hidden_layer_input = np.dot(weights_input_hidden.T, X)\n",
        "  hidden_layer_activation = sigmoid(hidden_layer_input)\n",
        "\n",
        "  # Calculating the output\n",
        "  output_layer_input = np.dot(weights_hidden_output.T, hidden_layer_activation)\n",
        "  output = sigmoid(output_layer_input)\n",
        "\n",
        "  ## Back Propogation\n",
        "\n",
        "  # Calculating the error\n",
        "  error = y - output\n",
        "\n",
        "  # Calculating the rate of change of error\n",
        "  # Rate of change of error w.r.t. output\n",
        "  error_wrt_output = -(y - output)\n",
        "  # Rate of change of error w.r.t. Z2\n",
        "  output_wrt_outputLayer_LinearTransform = np.multiply(output, (1 - output))\n",
        "  # Rate of change of Z2 w.r.t. weights between hidden and output layer\n",
        "  outputLayer_LinearTransform_wrt_weights = hidden_layer_activation\n",
        "\n",
        "  error_wrt_weights_hidden_output = np.dot(\n",
        "    outputLayer_LinearTransform_wrt_weights,\n",
        "    (error_wrt_output * output_wrt_outputLayer_LinearTransform).T,\n",
        "  )\n",
        "\n",
        "  outputLayer_LinearTransform_wrt_hiddenlayer_activations = weights_hidden_output\n",
        "  hiddenLayer_LinearTransform_wrt_hiddenLayer_activations = np.multiply(\n",
        "      hidden_layer_activation, (1 - hidden_layer_activation)\n",
        "  )\n",
        "  hiddenLayer_linearTransform_wrt_weights_input_hidden = X\n",
        "  # Rate of change of error w.r.t. weights between input and hidden layer\n",
        "  errors_wrt_weights_input_hidden = np.dot(\n",
        "    hiddenLayer_linearTransform_wrt_weights_input_hidden,\n",
        "    (\n",
        "        hiddenLayer_activations_wrt_hiddenLayer_LinearTransform *\n",
        "        np.dot(\n",
        "            outputLayer_LinearTransform_wrt_hiddenlayer_activations,\n",
        "            (output_wrt_outputLayer_LinearTransform * error_wrt_output),\n",
        "        )\n",
        "    ).T,\n",
        "  )\n",
        "  # Updating the weights\n",
        "  weights_input_hidden -= lr * errors_wrt_weights_input_hidden\n",
        "  weights_hidden_output -= lr * error_wrt_weights_hidden_output\n",
        "\n",
        "  # printing the error\n",
        "  epoch_loss = np.average(error)\n",
        "  losses.append(epoch_loss)\n",
        "  if epoch % 1000 == 0:\n",
        "    print(f'Epoch: {epoch}, Loss: {epoch_loss}')"
      ],
      "metadata": {
        "colab": {
          "base_uri": "https://localhost:8080/"
        },
        "id": "YfwOLNT0S3c8",
        "outputId": "73323eda-32d6-491f-e82d-5ac9390228f8"
      },
      "execution_count": 30,
      "outputs": [
        {
          "output_type": "stream",
          "name": "stdout",
          "text": [
            "Epoch: 0, Loss: -0.019367335121663443\n",
            "Epoch: 1000, Loss: 0.0023565294275328754\n",
            "Epoch: 2000, Loss: -0.004430389812766444\n",
            "Epoch: 3000, Loss: -0.012058056168522365\n",
            "Epoch: 4000, Loss: -0.01275161055138844\n",
            "Epoch: 5000, Loss: -0.0043397737005043124\n",
            "Epoch: 6000, Loss: 0.004624904957632662\n",
            "Epoch: 7000, Loss: 0.008466944507090476\n",
            "Epoch: 8000, Loss: 0.009016343606186472\n",
            "Epoch: 9000, Loss: 0.008253521971827965\n"
          ]
        }
      ]
    },
    {
      "cell_type": "code",
      "source": [
        "# Visual\n",
        "plt.plot(np.arange(1, epochs+1), np.array(losses))\n",
        "plt.xlabel('Epochs')\n",
        "plt.ylabel('Loss')\n",
        "plt.show()"
      ],
      "metadata": {
        "colab": {
          "base_uri": "https://localhost:8080/",
          "height": 449
        },
        "id": "NeIdwqv0TOsR",
        "outputId": "aaf49226-69dc-492e-c098-45d77e9d3522"
      },
      "execution_count": 31,
      "outputs": [
        {
          "output_type": "display_data",
          "data": {
            "text/plain": [
              "<Figure size 640x480 with 1 Axes>"
            ],
            "image/png": "[encoded data removed]"
          },
          "metadata": {}
        }
      ]
    }
  ]
}